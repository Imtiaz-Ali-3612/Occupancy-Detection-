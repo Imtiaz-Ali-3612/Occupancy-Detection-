{
 "cells": [
  {
   "cell_type": "code",
   "execution_count": 168,
   "metadata": {},
   "outputs": [],
   "source": [
    "import pandas as pd\n",
    "from sklearn.model_selection import train_test_split\n",
    "from sklearn.metrics import classification_report\n",
    "from sklearn.metrics import confusion_matrix\n",
    "from sklearn.metrics import accuracy_score\n",
    "from sklearn.neighbors import KNeighborsClassifier\n"
   ]
  },
  {
   "cell_type": "markdown",
   "metadata": {},
   "source": [
    "# Question 1 iris dataset"
   ]
  },
  {
   "cell_type": "code",
   "execution_count": 169,
   "metadata": {},
   "outputs": [
    {
     "data": {
      "text/html": [
       "<div>\n",
       "<style scoped>\n",
       "    .dataframe tbody tr th:only-of-type {\n",
       "        vertical-align: middle;\n",
       "    }\n",
       "\n",
       "    .dataframe tbody tr th {\n",
       "        vertical-align: top;\n",
       "    }\n",
       "\n",
       "    .dataframe thead th {\n",
       "        text-align: right;\n",
       "    }\n",
       "</style>\n",
       "<table border=\"1\" class=\"dataframe\">\n",
       "  <thead>\n",
       "    <tr style=\"text-align: right;\">\n",
       "      <th></th>\n",
       "      <th>sepal-length</th>\n",
       "      <th>sepal-width</th>\n",
       "      <th>petal-length</th>\n",
       "      <th>petal-width</th>\n",
       "      <th>class</th>\n",
       "    </tr>\n",
       "  </thead>\n",
       "  <tbody>\n",
       "    <tr>\n",
       "      <td>0</td>\n",
       "      <td>5.1</td>\n",
       "      <td>3.5</td>\n",
       "      <td>1.4</td>\n",
       "      <td>0.2</td>\n",
       "      <td>Iris-setosa</td>\n",
       "    </tr>\n",
       "    <tr>\n",
       "      <td>1</td>\n",
       "      <td>4.9</td>\n",
       "      <td>3.0</td>\n",
       "      <td>1.4</td>\n",
       "      <td>0.2</td>\n",
       "      <td>Iris-setosa</td>\n",
       "    </tr>\n",
       "    <tr>\n",
       "      <td>2</td>\n",
       "      <td>4.7</td>\n",
       "      <td>3.2</td>\n",
       "      <td>1.3</td>\n",
       "      <td>0.2</td>\n",
       "      <td>Iris-setosa</td>\n",
       "    </tr>\n",
       "    <tr>\n",
       "      <td>3</td>\n",
       "      <td>4.6</td>\n",
       "      <td>3.1</td>\n",
       "      <td>1.5</td>\n",
       "      <td>0.2</td>\n",
       "      <td>Iris-setosa</td>\n",
       "    </tr>\n",
       "    <tr>\n",
       "      <td>4</td>\n",
       "      <td>5.0</td>\n",
       "      <td>3.6</td>\n",
       "      <td>1.4</td>\n",
       "      <td>0.2</td>\n",
       "      <td>Iris-setosa</td>\n",
       "    </tr>\n",
       "  </tbody>\n",
       "</table>\n",
       "</div>"
      ],
      "text/plain": [
       "   sepal-length  sepal-width  petal-length  petal-width        class\n",
       "0           5.1          3.5           1.4          0.2  Iris-setosa\n",
       "1           4.9          3.0           1.4          0.2  Iris-setosa\n",
       "2           4.7          3.2           1.3          0.2  Iris-setosa\n",
       "3           4.6          3.1           1.5          0.2  Iris-setosa\n",
       "4           5.0          3.6           1.4          0.2  Iris-setosa"
      ]
     },
     "execution_count": 169,
     "metadata": {},
     "output_type": "execute_result"
    }
   ],
   "source": [
    "names=['sepal-length','sepal-width','petal-length','petal-width','class']\n",
    "dataset=pd.read_csv('iris.data',names=names)\n",
    "dataset.head()"
   ]
  },
  {
   "cell_type": "code",
   "execution_count": 170,
   "metadata": {},
   "outputs": [
    {
     "data": {
      "text/plain": [
       "(150, 5)"
      ]
     },
     "execution_count": 170,
     "metadata": {},
     "output_type": "execute_result"
    }
   ],
   "source": [
    "dataset.shape"
   ]
  },
  {
   "cell_type": "code",
   "execution_count": 171,
   "metadata": {},
   "outputs": [
    {
     "data": {
      "text/plain": [
       "class\n",
       "Iris-setosa        50\n",
       "Iris-versicolor    50\n",
       "Iris-virginica     50\n",
       "dtype: int64"
      ]
     },
     "execution_count": 171,
     "metadata": {},
     "output_type": "execute_result"
    }
   ],
   "source": [
    "dataset.groupby('class').size()"
   ]
  },
  {
   "cell_type": "code",
   "execution_count": 172,
   "metadata": {},
   "outputs": [],
   "source": [
    "array=dataset.values\n",
    "X=array[:,0:4]\n",
    "Y=array[:,4]\n",
    "t_size=0.20\n",
    "seed=7\n",
    "X_train,X_test,Y_train , Y_test =train_test_split(X,Y,test_size=t_size,\n",
    "                                                  random_state=seed)\n"
   ]
  },
  {
   "cell_type": "code",
   "execution_count": 173,
   "metadata": {},
   "outputs": [
    {
     "name": "stdout",
     "output_type": "stream",
     "text": [
      "0.9\n",
      "[[ 7  0  0]\n",
      " [ 0 11  1]\n",
      " [ 0  2  9]]\n",
      "                 precision    recall  f1-score   support\n",
      "\n",
      "    Iris-setosa       1.00      1.00      1.00         7\n",
      "Iris-versicolor       0.85      0.92      0.88        12\n",
      " Iris-virginica       0.90      0.82      0.86        11\n",
      "\n",
      "       accuracy                           0.90        30\n",
      "      macro avg       0.92      0.91      0.91        30\n",
      "   weighted avg       0.90      0.90      0.90        30\n",
      "\n"
     ]
    }
   ],
   "source": [
    "knn=KNeighborsClassifier()\n",
    "knn.fit(X_train,Y_train)\n",
    "predictions=knn.predict(X_test)\n",
    "print(accuracy_score(Y_test,predictions))\n",
    "print(confusion_matrix(Y_test,predictions))\n",
    "print(classification_report(Y_test,predictions))\n"
   ]
  },
  {
   "cell_type": "code",
   "execution_count": 174,
   "metadata": {},
   "outputs": [
    {
     "name": "stdout",
     "output_type": "stream",
     "text": [
      "k= 1 , Accuracy= 0.9\n",
      "k= 2 , Accuracy= 0.9333333333333333\n",
      "k= 3 , Accuracy= 0.9\n",
      "k= 4 , Accuracy= 0.9333333333333333\n",
      "k= 5 , Accuracy= 0.9\n",
      "k= 6 , Accuracy= 0.8666666666666667\n",
      "k= 7 , Accuracy= 0.8666666666666667\n",
      "k= 8 , Accuracy= 0.9\n",
      "k= 9 , Accuracy= 0.9\n"
     ]
    }
   ],
   "source": [
    "for i in range(1,10):\n",
    "    knn=KNeighborsClassifier(n_neighbors=i)\n",
    "    knn.fit(X_train,Y_train)\n",
    "    predictions=knn.predict(X_test)\n",
    "\n",
    "    print('k=',i,', Accuracy=',accuracy_score(Y_test,predictions))\n",
    "\n",
    "    "
   ]
  },
  {
   "cell_type": "code",
   "execution_count": 176,
   "metadata": {},
   "outputs": [
    {
     "name": "stdout",
     "output_type": "stream",
     "text": [
      "seed= 1 , Accuracy= 1.0\n",
      "seed= 2 , Accuracy= 1.0\n",
      "seed= 3 , Accuracy= 0.9666666666666667\n",
      "seed= 4 , Accuracy= 0.9666666666666667\n",
      "seed= 5 , Accuracy= 0.9333333333333333\n",
      "seed= 6 , Accuracy= 0.9666666666666667\n",
      "seed= 7 , Accuracy= 0.9\n",
      "seed= 8 , Accuracy= 0.9\n",
      "seed= 9 , Accuracy= 1.0\n"
     ]
    }
   ],
   "source": [
    "\n",
    "for i in range(1,10):\n",
    "    X_train,X_test,Y_train , Y_test =train_test_split(X,Y,test_size=t_size,\n",
    "                                                      random_state=i)\n",
    "    knn=KNeighborsClassifier()\n",
    "    knn.fit(X_train,Y_train)\n",
    "    predictions=knn.predict(X_test)\n",
    "    print('seed=',i,', Accuracy=',accuracy_score(Y_test,predictions))\n",
    "    \n",
    "    "
   ]
  },
  {
   "cell_type": "markdown",
   "metadata": {},
   "source": [
    "# Question 2 Occupacy data set builtin libraries"
   ]
  },
  {
   "cell_type": "code",
   "execution_count": 190,
   "metadata": {},
   "outputs": [
    {
     "data": {
      "text/html": [
       "<div>\n",
       "<style scoped>\n",
       "    .dataframe tbody tr th:only-of-type {\n",
       "        vertical-align: middle;\n",
       "    }\n",
       "\n",
       "    .dataframe tbody tr th {\n",
       "        vertical-align: top;\n",
       "    }\n",
       "\n",
       "    .dataframe thead th {\n",
       "        text-align: right;\n",
       "    }\n",
       "</style>\n",
       "<table border=\"1\" class=\"dataframe\">\n",
       "  <thead>\n",
       "    <tr style=\"text-align: right;\">\n",
       "      <th></th>\n",
       "      <th>Temperature</th>\n",
       "      <th>Humidity</th>\n",
       "      <th>Light</th>\n",
       "      <th>CO2</th>\n",
       "      <th>HumidityRatio</th>\n",
       "      <th>Occupancy</th>\n",
       "    </tr>\n",
       "  </thead>\n",
       "  <tbody>\n",
       "    <tr>\n",
       "      <td>1</td>\n",
       "      <td>23.18</td>\n",
       "      <td>27.2720</td>\n",
       "      <td>426.0</td>\n",
       "      <td>721.250000</td>\n",
       "      <td>0.004793</td>\n",
       "      <td>1</td>\n",
       "    </tr>\n",
       "    <tr>\n",
       "      <td>2</td>\n",
       "      <td>23.15</td>\n",
       "      <td>27.2675</td>\n",
       "      <td>429.5</td>\n",
       "      <td>714.000000</td>\n",
       "      <td>0.004783</td>\n",
       "      <td>1</td>\n",
       "    </tr>\n",
       "    <tr>\n",
       "      <td>3</td>\n",
       "      <td>23.15</td>\n",
       "      <td>27.2450</td>\n",
       "      <td>426.0</td>\n",
       "      <td>713.500000</td>\n",
       "      <td>0.004779</td>\n",
       "      <td>1</td>\n",
       "    </tr>\n",
       "    <tr>\n",
       "      <td>4</td>\n",
       "      <td>23.15</td>\n",
       "      <td>27.2000</td>\n",
       "      <td>426.0</td>\n",
       "      <td>708.250000</td>\n",
       "      <td>0.004772</td>\n",
       "      <td>1</td>\n",
       "    </tr>\n",
       "    <tr>\n",
       "      <td>5</td>\n",
       "      <td>23.10</td>\n",
       "      <td>27.2000</td>\n",
       "      <td>426.0</td>\n",
       "      <td>704.500000</td>\n",
       "      <td>0.004757</td>\n",
       "      <td>1</td>\n",
       "    </tr>\n",
       "    <tr>\n",
       "      <td>...</td>\n",
       "      <td>...</td>\n",
       "      <td>...</td>\n",
       "      <td>...</td>\n",
       "      <td>...</td>\n",
       "      <td>...</td>\n",
       "      <td>...</td>\n",
       "    </tr>\n",
       "    <tr>\n",
       "      <td>8139</td>\n",
       "      <td>21.05</td>\n",
       "      <td>36.0975</td>\n",
       "      <td>433.0</td>\n",
       "      <td>787.250000</td>\n",
       "      <td>0.005579</td>\n",
       "      <td>1</td>\n",
       "    </tr>\n",
       "    <tr>\n",
       "      <td>8140</td>\n",
       "      <td>21.05</td>\n",
       "      <td>35.9950</td>\n",
       "      <td>433.0</td>\n",
       "      <td>789.500000</td>\n",
       "      <td>0.005563</td>\n",
       "      <td>1</td>\n",
       "    </tr>\n",
       "    <tr>\n",
       "      <td>8141</td>\n",
       "      <td>21.10</td>\n",
       "      <td>36.0950</td>\n",
       "      <td>433.0</td>\n",
       "      <td>798.500000</td>\n",
       "      <td>0.005596</td>\n",
       "      <td>1</td>\n",
       "    </tr>\n",
       "    <tr>\n",
       "      <td>8142</td>\n",
       "      <td>21.10</td>\n",
       "      <td>36.2600</td>\n",
       "      <td>433.0</td>\n",
       "      <td>820.333333</td>\n",
       "      <td>0.005621</td>\n",
       "      <td>1</td>\n",
       "    </tr>\n",
       "    <tr>\n",
       "      <td>8143</td>\n",
       "      <td>21.10</td>\n",
       "      <td>36.2000</td>\n",
       "      <td>447.0</td>\n",
       "      <td>821.000000</td>\n",
       "      <td>0.005612</td>\n",
       "      <td>1</td>\n",
       "    </tr>\n",
       "  </tbody>\n",
       "</table>\n",
       "<p>8143 rows × 6 columns</p>\n",
       "</div>"
      ],
      "text/plain": [
       "      Temperature  Humidity  Light         CO2  HumidityRatio  Occupancy\n",
       "1           23.18   27.2720  426.0  721.250000       0.004793          1\n",
       "2           23.15   27.2675  429.5  714.000000       0.004783          1\n",
       "3           23.15   27.2450  426.0  713.500000       0.004779          1\n",
       "4           23.15   27.2000  426.0  708.250000       0.004772          1\n",
       "5           23.10   27.2000  426.0  704.500000       0.004757          1\n",
       "...           ...       ...    ...         ...            ...        ...\n",
       "8139        21.05   36.0975  433.0  787.250000       0.005579          1\n",
       "8140        21.05   35.9950  433.0  789.500000       0.005563          1\n",
       "8141        21.10   36.0950  433.0  798.500000       0.005596          1\n",
       "8142        21.10   36.2600  433.0  820.333333       0.005621          1\n",
       "8143        21.10   36.2000  447.0  821.000000       0.005612          1\n",
       "\n",
       "[8143 rows x 6 columns]"
      ]
     },
     "execution_count": 190,
     "metadata": {},
     "output_type": "execute_result"
    }
   ],
   "source": [
    "names = ['date','Temperature', 'Humidity', 'Light', 'CO2', 'HumidityRatio','Occupancy']\n",
    "dataset = pd.read_csv('datatraining.txt', names=names,header=0)\n",
    "dataset.drop(dataset.index[0])\n",
    "dataset=dataset.drop(['date'],axis=1)\n",
    "dataset\n",
    "\n"
   ]
  },
  {
   "cell_type": "code",
   "execution_count": 193,
   "metadata": {},
   "outputs": [
    {
     "name": "stdout",
     "output_type": "stream",
     "text": [
      "Test Set 1\n",
      "      Temperature   Humidity       Light          CO2  HumidityRatio  \\\n",
      "140     23.700000  26.272000  585.200000   749.200000       0.004764   \n",
      "141     23.718000  26.290000  578.400000   760.400000       0.004773   \n",
      "142     23.730000  26.230000  572.666667   769.666667       0.004765   \n",
      "143     23.722500  26.125000  493.750000   774.750000       0.004744   \n",
      "144     23.754000  26.200000  488.600000   779.000000       0.004767   \n",
      "...           ...        ...         ...          ...            ...   \n",
      "2800    24.290000  25.700000  808.000000  1150.250000       0.004829   \n",
      "2801    24.330000  25.736000  809.800000  1129.200000       0.004848   \n",
      "2802    24.330000  25.700000  817.000000  1125.800000       0.004841   \n",
      "2803    24.356667  25.700000  813.000000  1123.000000       0.004849   \n",
      "2804    24.408333  25.681667  798.000000  1124.000000       0.004860   \n",
      "\n",
      "      Occupancy  \n",
      "140           1  \n",
      "141           1  \n",
      "142           1  \n",
      "143           1  \n",
      "144           1  \n",
      "...         ...  \n",
      "2800          1  \n",
      "2801          1  \n",
      "2802          1  \n",
      "2803          1  \n",
      "2804          1  \n",
      "\n",
      "[2665 rows x 6 columns]\n",
      "Test Set 2\n",
      "      Temperature   Humidity       Light          CO2  HumidityRatio  \\\n",
      "1         21.7600  31.133333  437.333333  1029.666667       0.005021   \n",
      "2         21.7900  31.000000  437.333333  1000.000000       0.005009   \n",
      "3         21.7675  31.122500  434.000000  1003.750000       0.005022   \n",
      "4         21.7675  31.122500  439.000000  1009.500000       0.005022   \n",
      "5         21.7900  31.133333  437.333333  1005.666667       0.005030   \n",
      "...           ...        ...         ...          ...            ...   \n",
      "9748      20.8150  27.717500  429.750000  1505.250000       0.004213   \n",
      "9749      20.8650  27.745000  423.500000  1514.500000       0.004230   \n",
      "9750      20.8900  27.745000  423.500000  1521.500000       0.004237   \n",
      "9751      20.8900  28.022500  418.750000  1632.000000       0.004279   \n",
      "9752      21.0000  28.100000  409.000000  1864.000000       0.004321   \n",
      "\n",
      "      Occupancy  \n",
      "1             1  \n",
      "2             1  \n",
      "3             1  \n",
      "4             1  \n",
      "5             1  \n",
      "...         ...  \n",
      "9748          1  \n",
      "9749          1  \n",
      "9750          1  \n",
      "9751          1  \n",
      "9752          1  \n",
      "\n",
      "[9752 rows x 6 columns]\n"
     ]
    }
   ],
   "source": [
    "#Test Set 1\n",
    "\n",
    "dataset2 = pd.read_csv('datatest.txt', names=names,header=0)\n",
    "dataset2.drop(dataset2.index[0])\n",
    "dataset2=dataset2.drop(['date'],axis=1)\n",
    "print(\"Test Set 1\")\n",
    "print(dataset2)\n",
    "\n",
    "#Test Set 2\n",
    "dataset3 = pd.read_csv('datatest2.txt', names=names,header=0)\n",
    "dataset3.drop(dataset3.index[0])\n",
    "dataset3=dataset3.drop(['date'],axis=1)\n",
    "print(\"Test Set 2\")\n",
    "print(dataset3)"
   ]
  },
  {
   "cell_type": "code",
   "execution_count": 194,
   "metadata": {},
   "outputs": [
    {
     "name": "stdout",
     "output_type": "stream",
     "text": [
      "(8143, 6)\n",
      "(2665, 6)\n",
      "(9752, 6)\n"
     ]
    }
   ],
   "source": [
    "print(dataset.shape)\n",
    "print(dataset2.shape)\n",
    "print(dataset3.shape)\n"
   ]
  },
  {
   "cell_type": "code",
   "execution_count": 196,
   "metadata": {},
   "outputs": [],
   "source": [
    "array = dataset.values\n",
    "X_train = array[:,0:5]\n",
    "y_train = array[:,5]\n",
    "\n",
    "array = dataset2.values\n",
    "X_test=  array[:,0:5]\n",
    "y_test = array[:,5]\n",
    "\n",
    "array = dataset3.values\n",
    "X2_test=  array[:,0:5]\n",
    "y2_test = array[:,5]"
   ]
  },
  {
   "cell_type": "code",
   "execution_count": 198,
   "metadata": {},
   "outputs": [
    {
     "name": "stdout",
     "output_type": "stream",
     "text": [
      "0.9425891181988743\n",
      "[[1645   48]\n",
      " [ 105  867]]\n",
      "              precision    recall  f1-score   support\n",
      "\n",
      "         0.0       0.94      0.97      0.96      1693\n",
      "         1.0       0.95      0.89      0.92       972\n",
      "\n",
      "    accuracy                           0.94      2665\n",
      "   macro avg       0.94      0.93      0.94      2665\n",
      "weighted avg       0.94      0.94      0.94      2665\n",
      "\n"
     ]
    }
   ],
   "source": [
    "#Dataset 1\n",
    "knn = KNeighborsClassifier() \n",
    "knn.fit(X_train, y_train) \n",
    "predictions = knn.predict(X_test) \n",
    "print(accuracy_score(y_test, predictions)) \n",
    "print(confusion_matrix(y_test, predictions)) \n",
    "print(classification_report(y_test, predictions))\n"
   ]
  },
  {
   "cell_type": "code",
   "execution_count": 200,
   "metadata": {},
   "outputs": [
    {
     "name": "stdout",
     "output_type": "stream",
     "text": [
      "0.9621616078753076\n",
      "[[7385  318]\n",
      " [  51 1998]]\n",
      "              precision    recall  f1-score   support\n",
      "\n",
      "         0.0       0.99      0.96      0.98      7703\n",
      "         1.0       0.86      0.98      0.92      2049\n",
      "\n",
      "    accuracy                           0.96      9752\n",
      "   macro avg       0.93      0.97      0.95      9752\n",
      "weighted avg       0.97      0.96      0.96      9752\n",
      "\n"
     ]
    }
   ],
   "source": [
    "#Dataset 2\n",
    " \n",
    "predictions = knn.predict(X2_test) \n",
    "print(accuracy_score(y2_test, predictions)) \n",
    "print(confusion_matrix(y2_test, predictions)) \n",
    "print(classification_report(y2_test, predictions))\n"
   ]
  },
  {
   "cell_type": "code",
   "execution_count": 201,
   "metadata": {},
   "outputs": [
    {
     "name": "stdout",
     "output_type": "stream",
     "text": [
      "Changing the value of neighbours\n",
      "\n",
      "Test set 1\n",
      "\n",
      "K= 1, Accuracy = 0.9365853658536586\n",
      "K= 2, Accuracy = 0.9230769230769231\n",
      "K= 3, Accuracy = 0.9350844277673546\n",
      "K= 4, Accuracy = 0.9275797373358349\n",
      "K= 5, Accuracy = 0.9425891181988743\n",
      "K= 6, Accuracy = 0.9324577861163227\n",
      "K= 7, Accuracy = 0.9609756097560975\n",
      "K= 8, Accuracy = 0.9549718574108818\n",
      "K= 9, Accuracy = 0.9617260787992495\n",
      "Test set 2\n",
      "\n",
      "K= 1, Accuracy = 0.9502666119770303\n",
      "K= 2, Accuracy = 0.9525225594749795\n",
      "K= 3, Accuracy = 0.9579573420836751\n",
      "K= 4, Accuracy = 0.9539581624282198\n",
      "K= 5, Accuracy = 0.9621616078753076\n",
      "K= 6, Accuracy = 0.9628794093519278\n",
      "K= 7, Accuracy = 0.9649302707136997\n",
      "K= 8, Accuracy = 0.9658531583264971\n",
      "K= 9, Accuracy = 0.9656480721903199\n"
     ]
    }
   ],
   "source": [
    "print(\"Changing the value of neighbours\\n\")\n",
    "print(\"Test set 1\\n\")\n",
    "#on test set 1\n",
    "for i in range(1,10):\n",
    "  #k value changed\n",
    "  knn = KNeighborsClassifier(i) \n",
    "  knn.fit(X_train, y_train) \n",
    "  predictions = knn.predict(X_test) \n",
    "  print(\"K= {0}, Accuracy = {1}\".format(i,accuracy_score(y_test, predictions))) \n",
    "\n",
    "print(\"Test set 2\\n\")\n",
    "\n",
    "#on test set 2\n",
    "for i in range(1,10):\n",
    "  #k value changed\n",
    "  knn = KNeighborsClassifier(i) \n",
    "  knn.fit(X_train, y_train) \n",
    "  predictions = knn.predict(X2_test) \n",
    "  print(\"K= {0}, Accuracy = {1}\".format(i,accuracy_score(y2_test, predictions))) "
   ]
  },
  {
   "cell_type": "markdown",
   "metadata": {},
   "source": [
    "# Question 3 iris dataset"
   ]
  },
  {
   "cell_type": "code",
   "execution_count": 206,
   "metadata": {},
   "outputs": [],
   "source": [
    "import numpy as np"
   ]
  },
  {
   "cell_type": "code",
   "execution_count": 207,
   "metadata": {},
   "outputs": [],
   "source": [
    "names=['sepal-length','sepal-width','petal-length','petal-width','class']\n",
    "dataset=pd.read_csv('iris.data',names=names)\n",
    "training=dataset[0:120]\n",
    "testing =dataset[121:]\n",
    "training=training.drop(columns=['class'])\n",
    "testing =testing.drop(columns=['class'])\n",
    "classifier=\"class\"\n"
   ]
  },
  {
   "cell_type": "code",
   "execution_count": 208,
   "metadata": {},
   "outputs": [
    {
     "name": "stdout",
     "output_type": "stream",
     "text": [
      "for k =  1\n",
      "79.3103448275862 %\n",
      "for k =  2\n",
      "79.3103448275862 %\n",
      "for k =  3\n",
      "82.75862068965517 %\n",
      "for k =  4\n",
      "79.3103448275862 %\n",
      "for k =  5\n",
      "82.75862068965517 %\n",
      "for k =  6\n",
      "82.75862068965517 %\n",
      "for k =  7\n",
      "82.75862068965517 %\n",
      "for k =  8\n",
      "86.20689655172413 %\n",
      "for k =  9\n",
      "86.20689655172413 %\n"
     ]
    }
   ],
   "source": [
    "def distance(p1,p2):\n",
    "    i=0\n",
    "    s=0\n",
    "    while(i<len(p1)):\n",
    "        diff=p1[i]-p2[i]\n",
    "        t=diff*diff\n",
    "        t=t/(p1[i]+p2[i])\n",
    "        s=s+t\n",
    "        i+=1\n",
    "    return s\n",
    "\n",
    "    \n",
    "def knn(k,vals):\n",
    "    for i in vals:\n",
    "        min=vals[i]\n",
    "        mini=i\n",
    "        break\n",
    "    selected=[]\n",
    "    m=0\n",
    "    while(m<k):\n",
    "        for i in vals:\n",
    "            if(min>vals[i]):\n",
    "                min=vals[i]\n",
    "                mini=i\n",
    "       \n",
    "        selected.append(mini)\n",
    "        del vals[mini]\n",
    "        for i in vals:\n",
    "            min=vals[i]\n",
    "            mini=i\n",
    "            break\n",
    "        \n",
    "        m+=1\n",
    "    prediction={}\n",
    "    for i in selected:\n",
    "        if(dataset[classifier][i] in prediction):\n",
    "            prediction[dataset[classifier][i]]+=1\n",
    "        else:\n",
    "            prediction[dataset[classifier][i]]=1\n",
    "    max=-1\n",
    "    \n",
    "    for i in prediction:\n",
    "        if(max<prediction[i]):\n",
    "            maxi=i\n",
    "            max=prediction[i]\n",
    "    return maxi\n",
    "    \n",
    "        \n",
    "\n",
    "def knnModel(k):\n",
    "    correctlyPredicted=0\n",
    "    totalPredicted=0\n",
    "    distances={}\n",
    "    for index, row in testing.iterrows():\n",
    "        distances={}\n",
    "        a=np.array(row)\n",
    "        for index1,row1 in training.iterrows():\n",
    "            b=np.array(row1)\n",
    "            dist=distance(a,b)\n",
    "            distances[index1]=dist\n",
    "        predicted=knn(k,distances)\n",
    "        if(dataset[classifier][index]==predicted):\n",
    "            correctlyPredicted+=1\n",
    "        totalPredicted+=1\n",
    "\n",
    "    #     print('original : ',dataset[classifier][index],'predicted: ',predicted)\n",
    "    accuracy=correctlyPredicted/totalPredicted\n",
    "    print(accuracy*100,'%')\n",
    "\n",
    "for i in range(1,10):\n",
    "    print('for k = ',i)\n",
    "    knnModel(i)"
   ]
  },
  {
   "cell_type": "code",
   "execution_count": null,
   "metadata": {},
   "outputs": [],
   "source": [
    "\n"
   ]
  },
  {
   "cell_type": "markdown",
   "metadata": {},
   "source": [
    "# Question 3 Occupancy dataset 1"
   ]
  },
  {
   "cell_type": "code",
   "execution_count": 166,
   "metadata": {},
   "outputs": [],
   "source": [
    "\n",
    "testset=pd.read_csv('datatest.txt')\n",
    "testset=testset.drop(columns=['date'])\n",
    "# test1\n",
    "# test2=pd.read_csv('datatest.txt')\n",
    "# test2=test2.drop(columns=['date'])\n",
    "# test2\n",
    "\n",
    "dataset=pd.read_csv('datatraining.txt')\n",
    "dataset=dataset.drop(columns=['date'])\n",
    "\n",
    "training=dataset\n",
    "\n",
    "testing =testset\n",
    "\n",
    "classifier=\"Occupancy\"\n",
    "training=training.drop(columns=[classifier])\n",
    "testing =testing.drop(columns=[classifier])\n",
    "\n",
    "k=5"
   ]
  },
  {
   "cell_type": "code",
   "execution_count": 214,
   "metadata": {},
   "outputs": [
    {
     "name": "stdout",
     "output_type": "stream",
     "text": [
      "for k =  1\n",
      "original :  1 predicted:  1\n",
      "original :  1 predicted:  1\n",
      "original :  1 predicted:  1\n",
      "original :  1 predicted:  1\n",
      "original :  1 predicted:  1\n",
      "original :  1 predicted:  1\n",
      "original :  1 predicted:  1\n",
      "original :  1 predicted:  1\n",
      "original :  1 predicted:  1\n",
      "original :  1 predicted:  1\n"
     ]
    },
    {
     "ename": "KeyboardInterrupt",
     "evalue": "",
     "output_type": "error",
     "traceback": [
      "\u001b[1;31m---------------------------------------------------------------------------\u001b[0m",
      "\u001b[1;31mKeyboardInterrupt\u001b[0m                         Traceback (most recent call last)",
      "\u001b[1;32m<ipython-input-214-5ee8e31338b8>\u001b[0m in \u001b[0;36m<module>\u001b[1;34m\u001b[0m\n\u001b[0;32m     70\u001b[0m \u001b[1;32mfor\u001b[0m \u001b[0mi\u001b[0m \u001b[1;32min\u001b[0m \u001b[0mrange\u001b[0m\u001b[1;33m(\u001b[0m\u001b[1;36m1\u001b[0m\u001b[1;33m,\u001b[0m\u001b[1;36m10\u001b[0m\u001b[1;33m)\u001b[0m\u001b[1;33m:\u001b[0m\u001b[1;33m\u001b[0m\u001b[1;33m\u001b[0m\u001b[0m\n\u001b[0;32m     71\u001b[0m     \u001b[0mprint\u001b[0m\u001b[1;33m(\u001b[0m\u001b[1;34m'for k = '\u001b[0m\u001b[1;33m,\u001b[0m\u001b[0mi\u001b[0m\u001b[1;33m)\u001b[0m\u001b[1;33m\u001b[0m\u001b[1;33m\u001b[0m\u001b[0m\n\u001b[1;32m---> 72\u001b[1;33m     \u001b[0mknnModel\u001b[0m\u001b[1;33m(\u001b[0m\u001b[0mi\u001b[0m\u001b[1;33m)\u001b[0m\u001b[1;33m\u001b[0m\u001b[1;33m\u001b[0m\u001b[0m\n\u001b[0m",
      "\u001b[1;32m<ipython-input-214-5ee8e31338b8>\u001b[0m in \u001b[0;36mknnModel\u001b[1;34m(k)\u001b[0m\n\u001b[0;32m     56\u001b[0m         \u001b[0ma\u001b[0m\u001b[1;33m=\u001b[0m\u001b[0mnp\u001b[0m\u001b[1;33m.\u001b[0m\u001b[0marray\u001b[0m\u001b[1;33m(\u001b[0m\u001b[0mrow\u001b[0m\u001b[1;33m)\u001b[0m\u001b[1;33m\u001b[0m\u001b[1;33m\u001b[0m\u001b[0m\n\u001b[0;32m     57\u001b[0m         \u001b[1;32mfor\u001b[0m \u001b[0mindex1\u001b[0m\u001b[1;33m,\u001b[0m\u001b[0mrow1\u001b[0m \u001b[1;32min\u001b[0m \u001b[0mtraining\u001b[0m\u001b[1;33m.\u001b[0m\u001b[0miterrows\u001b[0m\u001b[1;33m(\u001b[0m\u001b[1;33m)\u001b[0m\u001b[1;33m:\u001b[0m\u001b[1;33m\u001b[0m\u001b[1;33m\u001b[0m\u001b[0m\n\u001b[1;32m---> 58\u001b[1;33m             \u001b[0mb\u001b[0m\u001b[1;33m=\u001b[0m\u001b[0mnp\u001b[0m\u001b[1;33m.\u001b[0m\u001b[0marray\u001b[0m\u001b[1;33m(\u001b[0m\u001b[0mrow1\u001b[0m\u001b[1;33m)\u001b[0m\u001b[1;33m\u001b[0m\u001b[1;33m\u001b[0m\u001b[0m\n\u001b[0m\u001b[0;32m     59\u001b[0m             \u001b[0mdist\u001b[0m\u001b[1;33m=\u001b[0m\u001b[0mdistance\u001b[0m\u001b[1;33m(\u001b[0m\u001b[0ma\u001b[0m\u001b[1;33m,\u001b[0m\u001b[0mb\u001b[0m\u001b[1;33m)\u001b[0m\u001b[1;33m\u001b[0m\u001b[1;33m\u001b[0m\u001b[0m\n\u001b[0;32m     60\u001b[0m             \u001b[0mdistances\u001b[0m\u001b[1;33m[\u001b[0m\u001b[0mindex1\u001b[0m\u001b[1;33m]\u001b[0m\u001b[1;33m=\u001b[0m\u001b[0mdist\u001b[0m\u001b[1;33m\u001b[0m\u001b[1;33m\u001b[0m\u001b[0m\n",
      "\u001b[1;31mKeyboardInterrupt\u001b[0m: "
     ]
    }
   ],
   "source": [
    "def distance(p1,p2):\n",
    "    i=0\n",
    "    s=0\n",
    "    while(i<len(p1)):\n",
    "        diff=p1[i]-p2[i]\n",
    "        t=diff*diff\n",
    "        t=t/(p1[i]+p2[i])\n",
    "        s=s+t\n",
    "        i+=1\n",
    "    return s\n",
    "\n",
    "    \n",
    "def knn(k,vals):\n",
    "    for i in vals:\n",
    "        min=vals[i]\n",
    "        mini=i\n",
    "        break\n",
    "    selected=[]\n",
    "    m=0\n",
    "    while(m<k):\n",
    "        for i in vals:\n",
    "            if(min>vals[i]):\n",
    "                min=vals[i]\n",
    "                mini=i\n",
    "       \n",
    "        selected.append(mini)\n",
    "        del vals[mini]\n",
    "        for i in vals:\n",
    "            min=vals[i]\n",
    "            mini=i\n",
    "            break\n",
    "        \n",
    "        m+=1\n",
    "    prediction={}\n",
    "    for i in selected:\n",
    "        if(dataset[classifier][i] in prediction):\n",
    "            prediction[dataset[classifier][i]]+=1\n",
    "        else:\n",
    "            prediction[dataset[classifier][i]]=1\n",
    "    max=-1\n",
    "    \n",
    "    for i in prediction:\n",
    "        if(max<prediction[i]):\n",
    "            maxi=i\n",
    "            max=prediction[i]\n",
    "    return maxi\n",
    "    \n",
    "        \n",
    "\n",
    "def knnModel(k):\n",
    "    correctlyPredicted=0\n",
    "    totalPredicted=0\n",
    "    distances={}\n",
    "    for index, row in testing.iterrows():\n",
    "        distances={}\n",
    "        a=np.array(row)\n",
    "        for index1,row1 in training.iterrows():\n",
    "            b=np.array(row1)\n",
    "            dist=distance(a,b)\n",
    "            distances[index1]=dist\n",
    "        predicted=knn(k,distances)\n",
    "        if(dataset[classifier][index]==predicted):\n",
    "            correctlyPredicted+=1\n",
    "        totalPredicted+=1\n",
    "\n",
    "        print('original : ',dataset[classifier][index],'predicted: ',predicted)\n",
    "    accuracy=correctlyPredicted/totalPredicted\n",
    "    print(accuracy*100,'%')\n",
    "\n",
    "for i in range(1,10):\n",
    "    print('for k = ',i)\n",
    "    knnModel(i)"
   ]
  },
  {
   "cell_type": "markdown",
   "metadata": {},
   "source": [
    "# Question 3 Occupancy dataset 2"
   ]
  },
  {
   "cell_type": "code",
   "execution_count": 211,
   "metadata": {},
   "outputs": [],
   "source": [
    "# test1\n",
    "# testset=pd.read_csv('datatest.txt')\n",
    "# testset=testset.drop(columns=['date'])\n",
    "\n",
    "# test2\n",
    "\n",
    "testset=pd.read_csv('datatest2.txt')\n",
    "testset=testset.drop(columns=['date'])\n",
    "\n",
    "dataset=pd.read_csv('datatraining.txt')\n",
    "dataset=dataset.drop(columns=['date'])\n",
    "\n",
    "training=dataset\n",
    "\n",
    "testing =testset\n",
    "\n",
    "classifier=\"Occupancy\"\n",
    "training=training.drop(columns=[classifier])\n",
    "testing =testing.drop(columns=[classifier])\n",
    "\n",
    "k=5"
   ]
  },
  {
   "cell_type": "code",
   "execution_count": 213,
   "metadata": {},
   "outputs": [
    {
     "name": "stdout",
     "output_type": "stream",
     "text": [
      "for k =  1\n",
      "original :  1 predicted:  1\n",
      "original :  1 predicted:  1\n",
      "original :  1 predicted:  1\n",
      "original :  1 predicted:  1\n",
      "original :  1 predicted:  1\n",
      "original :  1 predicted:  1\n",
      "original :  1 predicted:  1\n"
     ]
    },
    {
     "ename": "KeyboardInterrupt",
     "evalue": "",
     "output_type": "error",
     "traceback": [
      "\u001b[1;31m---------------------------------------------------------------------------\u001b[0m",
      "\u001b[1;31mKeyboardInterrupt\u001b[0m                         Traceback (most recent call last)",
      "\u001b[1;32m<ipython-input-213-dfc6c3d53537>\u001b[0m in \u001b[0;36m<module>\u001b[1;34m\u001b[0m\n\u001b[0;32m     71\u001b[0m \u001b[1;32mfor\u001b[0m \u001b[0mi\u001b[0m \u001b[1;32min\u001b[0m \u001b[0mrange\u001b[0m\u001b[1;33m(\u001b[0m\u001b[1;36m1\u001b[0m\u001b[1;33m,\u001b[0m\u001b[1;36m10\u001b[0m\u001b[1;33m)\u001b[0m\u001b[1;33m:\u001b[0m\u001b[1;33m\u001b[0m\u001b[1;33m\u001b[0m\u001b[0m\n\u001b[0;32m     72\u001b[0m     \u001b[0mprint\u001b[0m\u001b[1;33m(\u001b[0m\u001b[1;34m'for k = '\u001b[0m\u001b[1;33m,\u001b[0m\u001b[0mi\u001b[0m\u001b[1;33m)\u001b[0m\u001b[1;33m\u001b[0m\u001b[1;33m\u001b[0m\u001b[0m\n\u001b[1;32m---> 73\u001b[1;33m     \u001b[0mknnModel\u001b[0m\u001b[1;33m(\u001b[0m\u001b[0mi\u001b[0m\u001b[1;33m)\u001b[0m\u001b[1;33m\u001b[0m\u001b[1;33m\u001b[0m\u001b[0m\n\u001b[0m",
      "\u001b[1;32m<ipython-input-213-dfc6c3d53537>\u001b[0m in \u001b[0;36mknnModel\u001b[1;34m(k)\u001b[0m\n\u001b[0;32m     56\u001b[0m         \u001b[0ma\u001b[0m\u001b[1;33m=\u001b[0m\u001b[0mnp\u001b[0m\u001b[1;33m.\u001b[0m\u001b[0marray\u001b[0m\u001b[1;33m(\u001b[0m\u001b[0mrow\u001b[0m\u001b[1;33m)\u001b[0m\u001b[1;33m\u001b[0m\u001b[1;33m\u001b[0m\u001b[0m\n\u001b[0;32m     57\u001b[0m         \u001b[1;32mfor\u001b[0m \u001b[0mindex1\u001b[0m\u001b[1;33m,\u001b[0m\u001b[0mrow1\u001b[0m \u001b[1;32min\u001b[0m \u001b[0mtraining\u001b[0m\u001b[1;33m.\u001b[0m\u001b[0miterrows\u001b[0m\u001b[1;33m(\u001b[0m\u001b[1;33m)\u001b[0m\u001b[1;33m:\u001b[0m\u001b[1;33m\u001b[0m\u001b[1;33m\u001b[0m\u001b[0m\n\u001b[1;32m---> 58\u001b[1;33m             \u001b[0mb\u001b[0m\u001b[1;33m=\u001b[0m\u001b[0mnp\u001b[0m\u001b[1;33m.\u001b[0m\u001b[0marray\u001b[0m\u001b[1;33m(\u001b[0m\u001b[0mrow1\u001b[0m\u001b[1;33m)\u001b[0m\u001b[1;33m\u001b[0m\u001b[1;33m\u001b[0m\u001b[0m\n\u001b[0m\u001b[0;32m     59\u001b[0m             \u001b[0mdist\u001b[0m\u001b[1;33m=\u001b[0m\u001b[0mdistance\u001b[0m\u001b[1;33m(\u001b[0m\u001b[0ma\u001b[0m\u001b[1;33m,\u001b[0m\u001b[0mb\u001b[0m\u001b[1;33m)\u001b[0m\u001b[1;33m\u001b[0m\u001b[1;33m\u001b[0m\u001b[0m\n\u001b[0;32m     60\u001b[0m             \u001b[0mdistances\u001b[0m\u001b[1;33m[\u001b[0m\u001b[0mindex1\u001b[0m\u001b[1;33m]\u001b[0m\u001b[1;33m=\u001b[0m\u001b[0mdist\u001b[0m\u001b[1;33m\u001b[0m\u001b[1;33m\u001b[0m\u001b[0m\n",
      "\u001b[1;31mKeyboardInterrupt\u001b[0m: "
     ]
    }
   ],
   "source": [
    "def distance(p1,p2):\n",
    "    i=0\n",
    "    s=0\n",
    "    while(i<len(p1)):\n",
    "        diff=p1[i]-p2[i]\n",
    "        t=diff*diff\n",
    "        t=t/(p1[i]+p2[i])\n",
    "        s=s+t\n",
    "        i+=1\n",
    "    return s\n",
    "\n",
    "    \n",
    "def knn(k,vals):\n",
    "    for i in vals:\n",
    "        min=vals[i]\n",
    "        mini=i\n",
    "        break\n",
    "    selected=[]\n",
    "    m=0\n",
    "    while(m<k):\n",
    "        for i in vals:\n",
    "            if(min>vals[i]):\n",
    "                min=vals[i]\n",
    "                mini=i\n",
    "       \n",
    "        selected.append(mini)\n",
    "        del vals[mini]\n",
    "        for i in vals:\n",
    "            min=vals[i]\n",
    "            mini=i\n",
    "            break\n",
    "        \n",
    "        m+=1\n",
    "    prediction={}\n",
    "    for i in selected:\n",
    "        if(dataset[classifier][i] in prediction):\n",
    "            prediction[dataset[classifier][i]]+=1\n",
    "        else:\n",
    "            prediction[dataset[classifier][i]]=1\n",
    "    max=-1\n",
    "    \n",
    "    for i in prediction:\n",
    "        if(max<prediction[i]):\n",
    "            maxi=i\n",
    "            max=prediction[i]\n",
    "    return maxi\n",
    "    \n",
    "        \n",
    "\n",
    "def knnModel(k):\n",
    "    correctlyPredicted=0\n",
    "    totalPredicted=0\n",
    "    distances={}\n",
    "    for index, row in testing.iterrows():\n",
    "        distances={}\n",
    "        a=np.array(row)\n",
    "        for index1,row1 in training.iterrows():\n",
    "            b=np.array(row1)\n",
    "            dist=distance(a,b)\n",
    "            distances[index1]=dist\n",
    "        predicted=knn(k,distances)\n",
    "        if(dataset[classifier][index]==predicted):\n",
    "            correctlyPredicted+=1\n",
    "        totalPredicted+=1\n",
    "        print('original : ',dataset[classifier][index],'predicted: ',predicted)\n",
    "\n",
    "    accuracy=correctlyPredicted/totalPredicted\n",
    "\n",
    "    print(accuracy*100,'%')\n",
    "\n",
    "for i in range(1,10):\n",
    "    print('for k = ',i)\n",
    "    knnModel(i)"
   ]
  },
  {
   "cell_type": "code",
   "execution_count": null,
   "metadata": {},
   "outputs": [],
   "source": []
  }
 ],
 "metadata": {
  "kernelspec": {
   "display_name": "Python 3",
   "language": "python",
   "name": "python3"
  },
  "language_info": {
   "codemirror_mode": {
    "name": "ipython",
    "version": 3
   },
   "file_extension": ".py",
   "mimetype": "text/x-python",
   "name": "python",
   "nbconvert_exporter": "python",
   "pygments_lexer": "ipython3",
   "version": "3.7.4"
  }
 },
 "nbformat": 4,
 "nbformat_minor": 2
}
